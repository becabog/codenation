{
 "cells": [
  {
   "cell_type": "code",
   "execution_count": 1,
   "metadata": {},
   "outputs": [],
   "source": [
    "import pandas as pd\n",
    "import numpy as np"
   ]
  },
  {
   "cell_type": "code",
   "execution_count": 2,
   "metadata": {},
   "outputs": [],
   "source": [
    "df = pd.read_csv(\"desafio1.csv\")"
   ]
  },
  {
   "cell_type": "code",
   "execution_count": 19,
   "metadata": {},
   "outputs": [],
   "source": [
    "df_stats = df.loc[:,[\"estado_residencia\", \"pontuacao_credito\"]].groupby(\n",
    "    by=\"estado_residencia\").agg({\"pontuacao_credito\": [pd.Series.mode, 'median', 'mean', 'std']})\n",
    "df_stats.columns = [\"moda\", \"mediana\", \"media\", \"desvio_padrao\"]"
   ]
  },
  {
   "cell_type": "code",
   "execution_count": 23,
   "metadata": {},
   "outputs": [
    {
     "data": {
      "text/html": [
       "<div>\n",
       "<style scoped>\n",
       "    .dataframe tbody tr th:only-of-type {\n",
       "        vertical-align: middle;\n",
       "    }\n",
       "\n",
       "    .dataframe tbody tr th {\n",
       "        vertical-align: top;\n",
       "    }\n",
       "\n",
       "    .dataframe thead th {\n",
       "        text-align: right;\n",
       "    }\n",
       "</style>\n",
       "<table border=\"1\" class=\"dataframe\">\n",
       "  <thead>\n",
       "    <tr style=\"text-align: right;\">\n",
       "      <th>estado_residencia</th>\n",
       "      <th>PR</th>\n",
       "      <th>RS</th>\n",
       "      <th>SC</th>\n",
       "    </tr>\n",
       "  </thead>\n",
       "  <tbody>\n",
       "    <tr>\n",
       "      <td>moda</td>\n",
       "      <td>850.000000</td>\n",
       "      <td>850.000000</td>\n",
       "      <td>850.000000</td>\n",
       "    </tr>\n",
       "    <tr>\n",
       "      <td>mediana</td>\n",
       "      <td>650.000000</td>\n",
       "      <td>650.000000</td>\n",
       "      <td>653.000000</td>\n",
       "    </tr>\n",
       "    <tr>\n",
       "      <td>media</td>\n",
       "      <td>648.961294</td>\n",
       "      <td>651.105143</td>\n",
       "      <td>649.537653</td>\n",
       "    </tr>\n",
       "    <tr>\n",
       "      <td>desvio_padrao</td>\n",
       "      <td>98.607186</td>\n",
       "      <td>95.136598</td>\n",
       "      <td>97.233493</td>\n",
       "    </tr>\n",
       "  </tbody>\n",
       "</table>\n",
       "</div>"
      ],
      "text/plain": [
       "estado_residencia          PR          RS          SC\n",
       "moda               850.000000  850.000000  850.000000\n",
       "mediana            650.000000  650.000000  653.000000\n",
       "media              648.961294  651.105143  649.537653\n",
       "desvio_padrao       98.607186   95.136598   97.233493"
      ]
     },
     "execution_count": 23,
     "metadata": {},
     "output_type": "execute_result"
    }
   ],
   "source": [
    "df_stats.transpose()"
   ]
  },
  {
   "cell_type": "code",
   "execution_count": 24,
   "metadata": {},
   "outputs": [],
   "source": [
    "df_stats.transpose().to_json(\"submission.json\")"
   ]
  },
  {
   "cell_type": "code",
   "execution_count": null,
   "metadata": {},
   "outputs": [],
   "source": []
  }
 ],
 "metadata": {
  "kernelspec": {
   "display_name": "Python 3",
   "language": "python",
   "name": "python3"
  },
  "language_info": {
   "codemirror_mode": {
    "name": "ipython",
    "version": 3
   },
   "file_extension": ".py",
   "mimetype": "text/x-python",
   "name": "python",
   "nbconvert_exporter": "python",
   "pygments_lexer": "ipython3",
   "version": "3.7.4"
  }
 },
 "nbformat": 4,
 "nbformat_minor": 2
}
